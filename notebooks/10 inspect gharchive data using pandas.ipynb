{
 "cells": [
  {
   "cell_type": "code",
   "execution_count": 3,
   "metadata": {},
   "outputs": [],
   "source": [
    "import pandas as pd"
   ]
  },
  {
   "cell_type": "code",
   "execution_count": 6,
   "metadata": {},
   "outputs": [],
   "source": [
    "df = pd.read_json('./data/2015-01-01-15.json.gz',lines=True)"
   ]
  },
  {
   "cell_type": "code",
   "execution_count": 7,
   "metadata": {},
   "outputs": [
    {
     "data": {
      "text/plain": [
       "pandas.core.frame.DataFrame"
      ]
     },
     "execution_count": 7,
     "metadata": {},
     "output_type": "execute_result"
    }
   ],
   "source": [
    "type(df)"
   ]
  },
  {
   "cell_type": "code",
   "execution_count": 8,
   "metadata": {},
   "outputs": [
    {
     "data": {
      "text/plain": [
       "(22702, 8)"
      ]
     },
     "execution_count": 8,
     "metadata": {},
     "output_type": "execute_result"
    }
   ],
   "source": [
    "df.shape"
   ]
  },
  {
   "cell_type": "code",
   "execution_count": 10,
   "metadata": {},
   "outputs": [
    {
     "data": {
      "text/html": [
       "<div>\n",
       "<style scoped>\n",
       "    .dataframe tbody tr th:only-of-type {\n",
       "        vertical-align: middle;\n",
       "    }\n",
       "\n",
       "    .dataframe tbody tr th {\n",
       "        vertical-align: top;\n",
       "    }\n",
       "\n",
       "    .dataframe thead th {\n",
       "        text-align: right;\n",
       "    }\n",
       "</style>\n",
       "<table border=\"1\" class=\"dataframe\">\n",
       "  <thead>\n",
       "    <tr style=\"text-align: right;\">\n",
       "      <th></th>\n",
       "      <th>id</th>\n",
       "      <th>type</th>\n",
       "      <th>actor</th>\n",
       "      <th>repo</th>\n",
       "      <th>payload</th>\n",
       "      <th>public</th>\n",
       "      <th>created_at</th>\n",
       "      <th>org</th>\n",
       "    </tr>\n",
       "  </thead>\n",
       "  <tbody>\n",
       "    <tr>\n",
       "      <th>0</th>\n",
       "      <td>2489651045</td>\n",
       "      <td>CreateEvent</td>\n",
       "      <td>{'id': 665991, 'login': 'petroav', 'gravatar_i...</td>\n",
       "      <td>{'id': 28688495, 'name': 'petroav/6.828', 'url...</td>\n",
       "      <td>{'ref': 'master', 'ref_type': 'branch', 'maste...</td>\n",
       "      <td>True</td>\n",
       "      <td>2015-01-01 15:00:00+00:00</td>\n",
       "      <td>NaN</td>\n",
       "    </tr>\n",
       "    <tr>\n",
       "      <th>1</th>\n",
       "      <td>2489651051</td>\n",
       "      <td>PushEvent</td>\n",
       "      <td>{'id': 3854017, 'login': 'rspt', 'gravatar_id'...</td>\n",
       "      <td>{'id': 28671719, 'name': 'rspt/rspt-theme', 'u...</td>\n",
       "      <td>{'push_id': 536863970, 'size': 1, 'distinct_si...</td>\n",
       "      <td>True</td>\n",
       "      <td>2015-01-01 15:00:01+00:00</td>\n",
       "      <td>NaN</td>\n",
       "    </tr>\n",
       "    <tr>\n",
       "      <th>2</th>\n",
       "      <td>2489651053</td>\n",
       "      <td>PushEvent</td>\n",
       "      <td>{'id': 6339799, 'login': 'izuzero', 'gravatar_...</td>\n",
       "      <td>{'id': 28270952, 'name': 'izuzero/xe-module-aj...</td>\n",
       "      <td>{'push_id': 536863972, 'size': 1, 'distinct_si...</td>\n",
       "      <td>True</td>\n",
       "      <td>2015-01-01 15:00:01+00:00</td>\n",
       "      <td>NaN</td>\n",
       "    </tr>\n",
       "    <tr>\n",
       "      <th>3</th>\n",
       "      <td>2489651057</td>\n",
       "      <td>WatchEvent</td>\n",
       "      <td>{'id': 6894991, 'login': 'SametSisartenep', 'g...</td>\n",
       "      <td>{'id': 2871998, 'name': 'visionmedia/debug', '...</td>\n",
       "      <td>{'action': 'started'}</td>\n",
       "      <td>True</td>\n",
       "      <td>2015-01-01 15:00:03+00:00</td>\n",
       "      <td>{'id': 9285252, 'login': 'visionmedia', 'grava...</td>\n",
       "    </tr>\n",
       "    <tr>\n",
       "      <th>4</th>\n",
       "      <td>2489651062</td>\n",
       "      <td>PushEvent</td>\n",
       "      <td>{'id': 485033, 'login': 'winterbe', 'gravatar_...</td>\n",
       "      <td>{'id': 28593843, 'name': 'winterbe/streamjs', ...</td>\n",
       "      <td>{'push_id': 536863975, 'size': 1, 'distinct_si...</td>\n",
       "      <td>True</td>\n",
       "      <td>2015-01-01 15:00:03+00:00</td>\n",
       "      <td>NaN</td>\n",
       "    </tr>\n",
       "    <tr>\n",
       "      <th>...</th>\n",
       "      <td>...</td>\n",
       "      <td>...</td>\n",
       "      <td>...</td>\n",
       "      <td>...</td>\n",
       "      <td>...</td>\n",
       "      <td>...</td>\n",
       "      <td>...</td>\n",
       "      <td>...</td>\n",
       "    </tr>\n",
       "    <tr>\n",
       "      <th>22697</th>\n",
       "      <td>2489678838</td>\n",
       "      <td>IssuesEvent</td>\n",
       "      <td>{'id': 1105372, 'login': 'ophian', 'gravatar_i...</td>\n",
       "      <td>{'id': 2627116, 'name': 's9y/Serendipity', 'ur...</td>\n",
       "      <td>{'action': 'closed', 'issue': {'url': 'https:/...</td>\n",
       "      <td>True</td>\n",
       "      <td>2015-01-01 15:59:59+00:00</td>\n",
       "      <td>{'id': 1104713, 'login': 's9y', 'gravatar_id':...</td>\n",
       "    </tr>\n",
       "    <tr>\n",
       "      <th>22698</th>\n",
       "      <td>2489678840</td>\n",
       "      <td>IssuesEvent</td>\n",
       "      <td>{'id': 9343331, 'login': 'No-CQRT', 'gravatar_...</td>\n",
       "      <td>{'id': 25600089, 'name': 'No-CQRT/GooGuns', 'u...</td>\n",
       "      <td>{'action': 'opened', 'issue': {'url': 'https:/...</td>\n",
       "      <td>True</td>\n",
       "      <td>2015-01-01 15:59:59+00:00</td>\n",
       "      <td>NaN</td>\n",
       "    </tr>\n",
       "    <tr>\n",
       "      <th>22699</th>\n",
       "      <td>2489678842</td>\n",
       "      <td>DeleteEvent</td>\n",
       "      <td>{'id': 2057932, 'login': 'LipkeGu', 'gravatar_...</td>\n",
       "      <td>{'id': 24847217, 'name': 'LipkeGu/OpenRA', 'ur...</td>\n",
       "      <td>{'ref': 'keep_source_clean', 'ref_type': 'bran...</td>\n",
       "      <td>True</td>\n",
       "      <td>2015-01-01 15:59:59+00:00</td>\n",
       "      <td>NaN</td>\n",
       "    </tr>\n",
       "    <tr>\n",
       "      <th>22700</th>\n",
       "      <td>2489678843</td>\n",
       "      <td>IssuesEvent</td>\n",
       "      <td>{'id': 9343331, 'login': 'No-CQRT', 'gravatar_...</td>\n",
       "      <td>{'id': 25600089, 'name': 'No-CQRT/GooGuns', 'u...</td>\n",
       "      <td>{'action': 'opened', 'issue': {'url': 'https:/...</td>\n",
       "      <td>True</td>\n",
       "      <td>2015-01-01 15:59:59+00:00</td>\n",
       "      <td>NaN</td>\n",
       "    </tr>\n",
       "    <tr>\n",
       "      <th>22701</th>\n",
       "      <td>2489678844</td>\n",
       "      <td>IssuesEvent</td>\n",
       "      <td>{'id': 9343331, 'login': 'No-CQRT', 'gravatar_...</td>\n",
       "      <td>{'id': 25600089, 'name': 'No-CQRT/GooGuns', 'u...</td>\n",
       "      <td>{'action': 'opened', 'issue': {'url': 'https:/...</td>\n",
       "      <td>True</td>\n",
       "      <td>2015-01-01 15:59:59+00:00</td>\n",
       "      <td>NaN</td>\n",
       "    </tr>\n",
       "  </tbody>\n",
       "</table>\n",
       "<p>22702 rows × 8 columns</p>\n",
       "</div>"
      ],
      "text/plain": [
       "               id         type  \\\n",
       "0      2489651045  CreateEvent   \n",
       "1      2489651051    PushEvent   \n",
       "2      2489651053    PushEvent   \n",
       "3      2489651057   WatchEvent   \n",
       "4      2489651062    PushEvent   \n",
       "...           ...          ...   \n",
       "22697  2489678838  IssuesEvent   \n",
       "22698  2489678840  IssuesEvent   \n",
       "22699  2489678842  DeleteEvent   \n",
       "22700  2489678843  IssuesEvent   \n",
       "22701  2489678844  IssuesEvent   \n",
       "\n",
       "                                                   actor  \\\n",
       "0      {'id': 665991, 'login': 'petroav', 'gravatar_i...   \n",
       "1      {'id': 3854017, 'login': 'rspt', 'gravatar_id'...   \n",
       "2      {'id': 6339799, 'login': 'izuzero', 'gravatar_...   \n",
       "3      {'id': 6894991, 'login': 'SametSisartenep', 'g...   \n",
       "4      {'id': 485033, 'login': 'winterbe', 'gravatar_...   \n",
       "...                                                  ...   \n",
       "22697  {'id': 1105372, 'login': 'ophian', 'gravatar_i...   \n",
       "22698  {'id': 9343331, 'login': 'No-CQRT', 'gravatar_...   \n",
       "22699  {'id': 2057932, 'login': 'LipkeGu', 'gravatar_...   \n",
       "22700  {'id': 9343331, 'login': 'No-CQRT', 'gravatar_...   \n",
       "22701  {'id': 9343331, 'login': 'No-CQRT', 'gravatar_...   \n",
       "\n",
       "                                                    repo  \\\n",
       "0      {'id': 28688495, 'name': 'petroav/6.828', 'url...   \n",
       "1      {'id': 28671719, 'name': 'rspt/rspt-theme', 'u...   \n",
       "2      {'id': 28270952, 'name': 'izuzero/xe-module-aj...   \n",
       "3      {'id': 2871998, 'name': 'visionmedia/debug', '...   \n",
       "4      {'id': 28593843, 'name': 'winterbe/streamjs', ...   \n",
       "...                                                  ...   \n",
       "22697  {'id': 2627116, 'name': 's9y/Serendipity', 'ur...   \n",
       "22698  {'id': 25600089, 'name': 'No-CQRT/GooGuns', 'u...   \n",
       "22699  {'id': 24847217, 'name': 'LipkeGu/OpenRA', 'ur...   \n",
       "22700  {'id': 25600089, 'name': 'No-CQRT/GooGuns', 'u...   \n",
       "22701  {'id': 25600089, 'name': 'No-CQRT/GooGuns', 'u...   \n",
       "\n",
       "                                                 payload  public  \\\n",
       "0      {'ref': 'master', 'ref_type': 'branch', 'maste...    True   \n",
       "1      {'push_id': 536863970, 'size': 1, 'distinct_si...    True   \n",
       "2      {'push_id': 536863972, 'size': 1, 'distinct_si...    True   \n",
       "3                                  {'action': 'started'}    True   \n",
       "4      {'push_id': 536863975, 'size': 1, 'distinct_si...    True   \n",
       "...                                                  ...     ...   \n",
       "22697  {'action': 'closed', 'issue': {'url': 'https:/...    True   \n",
       "22698  {'action': 'opened', 'issue': {'url': 'https:/...    True   \n",
       "22699  {'ref': 'keep_source_clean', 'ref_type': 'bran...    True   \n",
       "22700  {'action': 'opened', 'issue': {'url': 'https:/...    True   \n",
       "22701  {'action': 'opened', 'issue': {'url': 'https:/...    True   \n",
       "\n",
       "                     created_at  \\\n",
       "0     2015-01-01 15:00:00+00:00   \n",
       "1     2015-01-01 15:00:01+00:00   \n",
       "2     2015-01-01 15:00:01+00:00   \n",
       "3     2015-01-01 15:00:03+00:00   \n",
       "4     2015-01-01 15:00:03+00:00   \n",
       "...                         ...   \n",
       "22697 2015-01-01 15:59:59+00:00   \n",
       "22698 2015-01-01 15:59:59+00:00   \n",
       "22699 2015-01-01 15:59:59+00:00   \n",
       "22700 2015-01-01 15:59:59+00:00   \n",
       "22701 2015-01-01 15:59:59+00:00   \n",
       "\n",
       "                                                     org  \n",
       "0                                                    NaN  \n",
       "1                                                    NaN  \n",
       "2                                                    NaN  \n",
       "3      {'id': 9285252, 'login': 'visionmedia', 'grava...  \n",
       "4                                                    NaN  \n",
       "...                                                  ...  \n",
       "22697  {'id': 1104713, 'login': 's9y', 'gravatar_id':...  \n",
       "22698                                                NaN  \n",
       "22699                                                NaN  \n",
       "22700                                                NaN  \n",
       "22701                                                NaN  \n",
       "\n",
       "[22702 rows x 8 columns]"
      ]
     },
     "execution_count": 10,
     "metadata": {},
     "output_type": "execute_result"
    }
   ],
   "source": [
    "df"
   ]
  },
  {
   "cell_type": "code",
   "execution_count": 12,
   "metadata": {},
   "outputs": [
    {
     "data": {
      "text/plain": [
       "Index(['id', 'type', 'actor', 'repo', 'payload', 'public', 'created_at',\n",
       "       'org'],\n",
       "      dtype='object')"
      ]
     },
     "execution_count": 12,
     "metadata": {},
     "output_type": "execute_result"
    }
   ],
   "source": [
    "df.columns"
   ]
  },
  {
   "cell_type": "code",
   "execution_count": 13,
   "metadata": {},
   "outputs": [
    {
     "data": {
      "text/plain": [
       "id                          int64\n",
       "type                       object\n",
       "actor                      object\n",
       "repo                       object\n",
       "payload                    object\n",
       "public                       bool\n",
       "created_at    datetime64[ns, UTC]\n",
       "org                        object\n",
       "dtype: object"
      ]
     },
     "execution_count": 13,
     "metadata": {},
     "output_type": "execute_result"
    }
   ],
   "source": [
    "df.dtypes"
   ]
  },
  {
   "cell_type": "code",
   "execution_count": 14,
   "metadata": {},
   "outputs": [
    {
     "data": {
      "text/plain": [
       "0                                                      NaN\n",
       "1                                                      NaN\n",
       "2                                                      NaN\n",
       "3        {'id': 9285252, 'login': 'visionmedia', 'grava...\n",
       "4                                                      NaN\n",
       "                               ...                        \n",
       "22697    {'id': 1104713, 'login': 's9y', 'gravatar_id':...\n",
       "22698                                                  NaN\n",
       "22699                                                  NaN\n",
       "22700                                                  NaN\n",
       "22701                                                  NaN\n",
       "Name: org, Length: 22702, dtype: object"
      ]
     },
     "execution_count": 14,
     "metadata": {},
     "output_type": "execute_result"
    }
   ],
   "source": [
    "df['org']"
   ]
  }
 ],
 "metadata": {
  "kernelspec": {
   "display_name": ".venv",
   "language": "python",
   "name": "python3"
  },
  "language_info": {
   "codemirror_mode": {
    "name": "ipython",
    "version": 3
   },
   "file_extension": ".py",
   "mimetype": "text/x-python",
   "name": "python",
   "nbconvert_exporter": "python",
   "pygments_lexer": "ipython3",
   "version": "3.9.7"
  },
  "orig_nbformat": 4
 },
 "nbformat": 4,
 "nbformat_minor": 2
}
