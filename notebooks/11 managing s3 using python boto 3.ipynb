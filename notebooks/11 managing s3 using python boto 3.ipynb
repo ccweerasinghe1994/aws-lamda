{
 "cells": [
  {
   "cell_type": "code",
   "execution_count": 1,
   "metadata": {},
   "outputs": [],
   "source": [
    "import boto3"
   ]
  },
  {
   "cell_type": "code",
   "execution_count": 2,
   "metadata": {},
   "outputs": [],
   "source": [
    "import os"
   ]
  },
  {
   "cell_type": "code",
   "execution_count": 3,
   "metadata": {},
   "outputs": [],
   "source": [
    "os.environ.get('AWS_PROFILE')"
   ]
  },
  {
   "cell_type": "code",
   "execution_count": 4,
   "metadata": {},
   "outputs": [],
   "source": [
    "s3_clinet = boto3.client('s3',region_name='ap-south-1')"
   ]
  },
  {
   "cell_type": "code",
   "execution_count": 5,
   "metadata": {},
   "outputs": [
    {
     "data": {
      "text/plain": [
       "{'ResponseMetadata': {'RequestId': '6VND9THWSCJRJ78H',\n",
       "  'HostId': 'G1hYoZKp7TK8ZnzWHRlHbkL0ne5/bgsvl4e7Nu4zXTyuYyYag+PVZMkErnWKp0xhBAc0COk1Rnfb9Jg7dXAJkQ==',\n",
       "  'HTTPStatusCode': 200,\n",
       "  'HTTPHeaders': {'x-amz-id-2': 'G1hYoZKp7TK8ZnzWHRlHbkL0ne5/bgsvl4e7Nu4zXTyuYyYag+PVZMkErnWKp0xhBAc0COk1Rnfb9Jg7dXAJkQ==',\n",
       "   'x-amz-request-id': '6VND9THWSCJRJ78H',\n",
       "   'date': 'Wed, 08 Feb 2023 06:08:27 GMT',\n",
       "   'content-type': 'application/xml',\n",
       "   'transfer-encoding': 'chunked',\n",
       "   'server': 'AmazonS3'},\n",
       "  'RetryAttempts': 0},\n",
       " 'Buckets': [{'Name': 'chamara-demo-s3-bucket-02',\n",
       "   'CreationDate': datetime.datetime(2023, 2, 2, 2, 3, 46, tzinfo=tzutc())},\n",
       "  {'Name': 'demo-chamara-bucket-01',\n",
       "   'CreationDate': datetime.datetime(2023, 2, 2, 2, 41, 38, tzinfo=tzutc())},\n",
       "  {'Name': 'www.azure-cdn-demo-s3.io',\n",
       "   'CreationDate': datetime.datetime(2023, 2, 2, 2, 54, 20, tzinfo=tzutc())}],\n",
       " 'Owner': {'ID': '0f8dd0db290d418eef34c86de202ab6bb12028b0ebfe4667007ae747ad116b76'}}"
      ]
     },
     "execution_count": 5,
     "metadata": {},
     "output_type": "execute_result"
    }
   ],
   "source": [
    "s3_clinet.list_buckets()"
   ]
  },
  {
   "cell_type": "code",
   "execution_count": 6,
   "metadata": {},
   "outputs": [
    {
     "name": "stdout",
     "output_type": "stream",
     "text": [
      "chamara-demo-s3-bucket-02\n",
      "demo-chamara-bucket-01\n",
      "www.azure-cdn-demo-s3.io\n"
     ]
    }
   ],
   "source": [
    "for bucket in s3_clinet.list_buckets()['Buckets']:\n",
    "    print(bucket['Name'])"
   ]
  },
  {
   "cell_type": "code",
   "execution_count": 7,
   "metadata": {},
   "outputs": [],
   "source": [
    "buckets = s3_clinet.list_buckets()['Buckets']"
   ]
  },
  {
   "cell_type": "code",
   "execution_count": 8,
   "metadata": {},
   "outputs": [
    {
     "data": {
      "text/plain": [
       "3"
      ]
     },
     "execution_count": 8,
     "metadata": {},
     "output_type": "execute_result"
    }
   ],
   "source": [
    "len(buckets)"
   ]
  },
  {
   "cell_type": "code",
   "execution_count": 9,
   "metadata": {},
   "outputs": [],
   "source": [
    "bucket_prefix = input(\"please enter two letter prefix to your s3 buckets\")"
   ]
  },
  {
   "cell_type": "code",
   "execution_count": 10,
   "metadata": {},
   "outputs": [
    {
     "data": {
      "text/plain": [
       "'ai'"
      ]
     },
     "execution_count": 10,
     "metadata": {},
     "output_type": "execute_result"
    }
   ],
   "source": [
    "bucket_prefix"
   ]
  },
  {
   "cell_type": "code",
   "execution_count": 19,
   "metadata": {},
   "outputs": [],
   "source": [
    "bucket_name = f'{bucket_prefix}ghactivitycw'\n",
    "\n",
    "# s3_clinet.create_bucket(Bucket=)"
   ]
  },
  {
   "cell_type": "code",
   "execution_count": 20,
   "metadata": {},
   "outputs": [
    {
     "data": {
      "text/plain": [
       "{'ResponseMetadata': {'RequestId': '7E675YM3YM1BWNZ8',\n",
       "  'HostId': '+mE4BNjlC2YggffBkumEVnM5EJKmy+2WHrkewO6EpOoOP6T7AZEAQWWdp37R/mRdhoY5VFOC1lDey9FoQ2NuCQ==',\n",
       "  'HTTPStatusCode': 200,\n",
       "  'HTTPHeaders': {'x-amz-id-2': '+mE4BNjlC2YggffBkumEVnM5EJKmy+2WHrkewO6EpOoOP6T7AZEAQWWdp37R/mRdhoY5VFOC1lDey9FoQ2NuCQ==',\n",
       "   'x-amz-request-id': '7E675YM3YM1BWNZ8',\n",
       "   'date': 'Wed, 08 Feb 2023 06:15:06 GMT',\n",
       "   'location': 'http://aighactivitycw.s3.amazonaws.com/',\n",
       "   'server': 'AmazonS3',\n",
       "   'content-length': '0'},\n",
       "  'RetryAttempts': 0},\n",
       " 'Location': 'http://aighactivitycw.s3.amazonaws.com/'}"
      ]
     },
     "execution_count": 20,
     "metadata": {},
     "output_type": "execute_result"
    }
   ],
   "source": [
    "location = {'LocationConstraint': 'ap-south-1'}\n",
    "s3_clinet.create_bucket(Bucket=bucket_name,CreateBucketConfiguration=location)\n",
    "\n"
   ]
  }
 ],
 "metadata": {
  "kernelspec": {
   "display_name": ".venv",
   "language": "python",
   "name": "python3"
  },
  "language_info": {
   "codemirror_mode": {
    "name": "ipython",
    "version": 3
   },
   "file_extension": ".py",
   "mimetype": "text/x-python",
   "name": "python",
   "nbconvert_exporter": "python",
   "pygments_lexer": "ipython3",
   "version": "3.9.7"
  },
  "orig_nbformat": 4
 },
 "nbformat": 4,
 "nbformat_minor": 2
}
